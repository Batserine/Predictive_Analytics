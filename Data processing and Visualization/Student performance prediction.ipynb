{
 "cells": [
  {
   "cell_type": "markdown",
   "metadata": {},
   "source": [
    "# Student Performace in Secondary Education\n",
    "This is the main project for Week-5 of this course. The dataset is from the [UCI Machine Learning Repository](https://archive.ics.uci.edu/ml/datasets/Student+Performance) (originating from the University of Minho, GuimarÃ£es, Portugal). You can download the dataset from the link above.\n"
   ]
  },
  {
   "cell_type": "markdown",
   "metadata": {},
   "source": [
    "# Data Set Information:\n",
    "\n",
    "This data approaches student achievement in secondary education of two Portuguese schools. The data attributes include student grades, demographic, social and school related features) and it was collected by using school reports and questionnaires. Two datasets are provided regarding the performance in two distinct subjects: Mathematics (mat) and Portuguese language (por). In <mark> [Cortez and Silva, 2008] </mark>, the two datasets were modeled under binary/five-level classification and regression tasks. <mark>\"In this notebook, I use one subject containg dataset i.e; Math\"</mark>. Important note: the target attribute G3 has a strong correlation with attributes G2 and G1. This occurs because G3 is the final year grade (issued at the 3rd period), while G1 and G2 correspond to the 1st and 2nd period grades. It is more difficult to predict G3 without G2 and G1, but such prediction is much more useful (see paper source for more details)"
   ]
  },
  {
   "cell_type": "code",
   "execution_count": 3,
   "metadata": {},
   "outputs": [],
   "source": [
    "# Importing Libraries\n",
    "\n",
    "import numpy as np  \n",
    "from collections import defaultdict\n",
    "import sklearn\n",
    "import matplotlib.pyplot as plt\n",
    "import seaborn as sns"
   ]
  },
  {
   "cell_type": "markdown",
   "metadata": {},
   "source": [
    "The purpose of this dataset is to predict G3 (final grade) using G1, G2(period grades) and other attributes.\n",
    "\n",
    "Below is the dataset description from the UCI Machine Learning Repository. \n",
    "\n",
    "# Attributes for student-mat.csv (Math course) dataset:\n",
    "\n",
    "1 school - student's school (binary: \"GP\" - Gabriel Pereira or \"MS\" - Mousinho da Silveira)\n",
    "\n",
    "\n",
    "2 sex - student's sex (binary: \"F\" - female or \"M\" - male)\n",
    "\n",
    "\n",
    "3 age - student's age (numeric: from 15 to 22)\n",
    "\n",
    "\n",
    "4 address - student's home address type (binary: \"U\" - urban or \"R\" - rural)\n",
    "\n",
    "\n",
    "5 famsize - family size (binary: \"LE3\" - less or equal to 3 or \"GT3\" - greater than 3)\n",
    "\n",
    "\n",
    "6 Pstatus - parent's cohabitation status (binary: \"T\" - living together or \"A\" - apart)\n",
    "\n",
    "\n",
    "7 Medu - mother's education (numeric: 0 - none,  1 - primary education (4th grade), 2 – 5th to 9th grade, 3 – secondary education or 4 – higher education)\n",
    "\n",
    "\n",
    "8 Fedu - father's education (numeric: 0 - none,  1 - primary education (4th grade), 2 – 5th to 9th grade, 3 – secondary education or 4 – higher education)\n",
    "\n",
    "\n",
    "9 Mjob - mother's job (nominal: \"teacher\", \"health\" care related, civil \"services\" (e.g. administrative or police), \"at_home\" or \"other\")\n",
    "\n",
    "\n",
    "10 Fjob - father's job (nominal: \"teacher\", \"health\" care related, civil \"services\" (e.g. administrative or police), \"at_home\" or \"other\")\n",
    "\n",
    "\n",
    "11 reason - reason to choose this school (nominal: close to \"home\", school \"reputation\", \"course\" preference or \"other\")\n",
    "\n",
    "\n",
    "12 guardian - student's guardian (nominal: \"mother\", \"father\" or \"other\")\n",
    "\n",
    "\n",
    "13 traveltime - home to school travel time (numeric: 1 - <15 min., 2 - 15 to 30 min., 3 - 30 min. to 1 hour, or 4 - >1 hour)\n",
    "\n",
    "\n",
    "14 studytime - weekly study time (numeric: 1 - <2 hours, 2 - 2 to 5 hours, 3 - 5 to 10 hours, or 4 - >10 hours)\n",
    "\n",
    "\n",
    "15 failures - number of past class failures (numeric: n if 1<=n<3, else 4)\n",
    "\n",
    "\n",
    "16 schoolsup - extra educational support (binary: yes or no)\n",
    "\n",
    "\n",
    "17 famsup - family educational support (binary: yes or no)\n",
    "\n",
    "\n",
    "18 paid - extra paid classes within the course subject (Math or Portuguese) (binary: yes or no)\n",
    "\n",
    "\n",
    "19 activities - extra-curricular activities (binary: yes or no)\n",
    "\n",
    "\n",
    "20 nursery - attended nursery school (binary: yes or no)\n",
    "\n",
    "\n",
    "21 higher - wants to take higher education (binary: yes or no)\n",
    "\n",
    "\n",
    "22 internet - Internet access at home (binary: yes or no)\n",
    "\n",
    "\n",
    "23 romantic - with a romantic relationship (binary: yes or no)\n",
    "\n",
    "\n",
    "24 famrel - quality of family relationships (numeric: from 1 - very bad to 5 - excellent)\n",
    "\n",
    "\n",
    "25 freetime - free time after school (numeric: from 1 - very low to 5 - very high)\n",
    "\n",
    "\n",
    "26 goout - going out with friends (numeric: from 1 - very low to 5 - very high)\n",
    "\n",
    "\n",
    "27 Dalc - workday alcohol consumption (numeric: from 1 - very low to 5 - very high)\n",
    "\n",
    "\n",
    "28 Walc - weekend alcohol consumption (numeric: from 1 - very low to 5 - very high)\n",
    "\n",
    "\n",
    "29 health - current health status (numeric: from 1 - very bad to 5 - very good)\n",
    "\n",
    "\n",
    "30 absences - number of school absences (numeric: from 0 to 93)\n",
    "\n",
    "# These grades are related with the course subject, Math:\n",
    "\n",
    "31 G1 - first period grade (numeric: from 0 to 20)\n",
    "\n",
    "\n",
    "31 G2 - second period grade (numeric: from 0 to 20)\n",
    "\n",
    "\n",
    "32 G3 - final grade (numeric: from 0 to 20, output target)\n",
    "\n",
    "Run the cells below to examine the dataset."
   ]
  },
  {
   "cell_type": "markdown",
   "metadata": {},
   "source": [
    "# 1. Data Filtering and Cleaning"
   ]
  },
  {
   "cell_type": "code",
   "execution_count": 5,
   "metadata": {},
   "outputs": [
    {
     "name": "stdout",
     "output_type": "stream",
     "text": [
      "['school', 'sex', 'age', 'address', 'famsize', 'Pstatus', 'Medu', 'Fedu', 'Mjob', 'Fjob', 'reason', 'guardian', 'traveltime', 'studytime', 'failures', 'schoolsup', 'famsup', 'paid', 'activities', 'nursery', 'higher', 'internet', 'romantic', 'famrel', 'freetime', 'goout', 'Dalc', 'Walc', 'health', 'absences', 'G1', 'G2', 'G3']\n"
     ]
    }
   ],
   "source": [
    "# Load student dataset\n",
    "\n",
    "import csv\n",
    "f = open(\"student/student-mat.csv\")\n",
    "reader = csv.reader(f, delimiter = ';')\n",
    "header = next(reader)\n",
    "\n",
    "print(header)"
   ]
  },
  {
   "cell_type": "code",
   "execution_count": 6,
   "metadata": {},
   "outputs": [],
   "source": [
    "dataset = []\n",
    "\n",
    "for line in reader:\n",
    "    # Convert into a dictionary object\n",
    "    d = dict(zip(header,line))\n",
    "    # Cast Integers to numeric attributes\n",
    "    for field in ['age', 'Medu', 'Fedu', 'traveltime', 'studytime', 'failures', 'famrel', 'freetime', 'goout', 'Dalc', 'Walc', 'health', 'absences', 'G1', 'G2', 'G3']:\n",
    "        d[field] = int(d[field])\n",
    "    dataset.append(d)"
   ]
  },
  {
   "cell_type": "code",
   "execution_count": 7,
   "metadata": {},
   "outputs": [
    {
     "data": {
      "text/plain": [
       "395"
      ]
     },
     "execution_count": 7,
     "metadata": {},
     "output_type": "execute_result"
    }
   ],
   "source": [
    "len(dataset)"
   ]
  },
  {
   "cell_type": "code",
   "execution_count": 8,
   "metadata": {},
   "outputs": [
    {
     "data": {
      "text/plain": [
       "{'school': 'GP',\n",
       " 'sex': 'F',\n",
       " 'age': 18,\n",
       " 'address': 'U',\n",
       " 'famsize': 'GT3',\n",
       " 'Pstatus': 'A',\n",
       " 'Medu': 4,\n",
       " 'Fedu': 4,\n",
       " 'Mjob': 'at_home',\n",
       " 'Fjob': 'teacher',\n",
       " 'reason': 'course',\n",
       " 'guardian': 'mother',\n",
       " 'traveltime': 2,\n",
       " 'studytime': 2,\n",
       " 'failures': 0,\n",
       " 'schoolsup': 'yes',\n",
       " 'famsup': 'no',\n",
       " 'paid': 'no',\n",
       " 'activities': 'no',\n",
       " 'nursery': 'yes',\n",
       " 'higher': 'yes',\n",
       " 'internet': 'no',\n",
       " 'romantic': 'no',\n",
       " 'famrel': 4,\n",
       " 'freetime': 3,\n",
       " 'goout': 4,\n",
       " 'Dalc': 1,\n",
       " 'Walc': 1,\n",
       " 'health': 3,\n",
       " 'absences': 6,\n",
       " 'G1': 5,\n",
       " 'G2': 6,\n",
       " 'G3': 6}"
      ]
     },
     "execution_count": 8,
     "metadata": {},
     "output_type": "execute_result"
    }
   ],
   "source": [
    "dataset[0]"
   ]
  },
  {
   "cell_type": "markdown",
   "metadata": {},
   "source": [
    "# 2. Statistics"
   ]
  },
  {
   "cell_type": "code",
   "execution_count": 37,
   "metadata": {},
   "outputs": [
    {
     "name": "stdout",
     "output_type": "stream",
     "text": [
      "10.415189873417722\n"
     ]
    }
   ],
   "source": [
    "# Q. What is the final average of all the students?\n",
    "\n",
    "final_grade = []\n",
    "for d in dataset:\n",
    "    final_grade.append(d['G3'])\n",
    "\n",
    "final_avg = np.average(final_grade)\n",
    "print(final_avg)"
   ]
  },
  {
   "cell_type": "code",
   "execution_count": 30,
   "metadata": {},
   "outputs": [
    {
     "name": "stdout",
     "output_type": "stream",
     "text": [
      "\n",
      "Final average of students in GP:  10.489971346704872\n",
      "\n",
      "Final average of students in MS:  9.847826086956522\n",
      "\n",
      " GP school produced better average.\n"
     ]
    }
   ],
   "source": [
    "# Q. Which school produced good grades in the end? i.e; whic school has better final average grade?\n",
    "\n",
    "gp_grade = []\n",
    "ms_grade = []\n",
    "data_gp = [d for d in dataset if d['school'] == 'GP'] \n",
    "data_ms = [d for d in dataset if d['school'] == 'MS'] \n",
    "\n",
    "\n",
    "for d in data_gp:\n",
    "    gp_grade.append(d['G3'])\n",
    "\n",
    "for d in data_ms:\n",
    "    ms_grade.append(d['G3'])\n",
    "        \n",
    "gp_avg = np.average(gp_grade)\n",
    "ms_avg = np.average(ms_grade)\n",
    "\n",
    "print(\"\\nFinal average of students in GP: \", gp_avg)\n",
    "print(\"\\nFinal average of students in MS: \", ms_avg)\n",
    "\n",
    "if( gp_avg < ms_avg):\n",
    "    print(\"\\n MS school produced better average.\")\n",
    "else:\n",
    "    print(\"\\n GP school produced better average.\")"
   ]
  },
  {
   "cell_type": "markdown",
   "metadata": {},
   "source": [
    "# 3. Data Visulaization\n",
    "There are 30 main attributes affecting the grades of the students. I visualize some of the attributes to explain their importance on students' performance.\n",
    "Such as: schools,gender,age,parents education, parents jobs, alcohol consumption, study time, absences."
   ]
  },
  {
   "cell_type": "code",
   "execution_count": 65,
   "metadata": {},
   "outputs": [
    {
     "data": {
      "text/plain": [
       "<BarContainer object of 2 artists>"
      ]
     },
     "execution_count": 65,
     "metadata": {},
     "output_type": "execute_result"
    },
    {
     "data": {
      "image/png": "[encoded data removed]",
      "text/plain": [
       "<Figure size 432x288 with 1 Axes>"
      ]
     },
     "metadata": {
      "needs_background": "light"
     },
     "output_type": "display_data"
    }
   ],
   "source": [
    "# No.of students in each school\n",
    "data_school = [d['school'] for d in dataset]\n",
    "\n",
    "ds = defaultdict(int)\n",
    "for r in data_school:\n",
    "    ds[r] += 1\n",
    "X = list(ds.keys())\n",
    "Y = list(ds.values())\n",
    "\n",
    "plt.title('No.of students in each school')\n",
    "plt.xlabel('School')\n",
    "plt.ylabel('Number of students')\n",
    "plt.bar(X, Y, color=['blue','green'])"
   ]
  },
  {
   "cell_type": "code",
   "execution_count": 71,
   "metadata": {},
   "outputs": [
    {
     "data": {
      "text/plain": [
       "<BarContainer object of 2 artists>"
      ]
     },
     "execution_count": 71,
     "metadata": {},
     "output_type": "execute_result"
    },
    {
     "data": {
      "image/png": "[encoded data removed]",
      "text/plain": [
       "<Figure size 432x288 with 1 Axes>"
      ]
     },
     "metadata": {
      "needs_background": "light"
     },
     "output_type": "display_data"
    }
   ],
   "source": [
    "# Gender Distribution\n",
    "data_gender = [d['sex'] for d in dataset]\n",
    "\n",
    "dg = defaultdict(int)\n",
    "for g in data_gender:\n",
    "    dg[g] += 1\n",
    "X = list(dg.keys())\n",
    "Y = list(dg.values())\n",
    "\n",
    "plt.title('Gender distribution between schools')\n",
    "plt.xlabel('Gender')\n",
    "plt.ylabel('Number of students')\n",
    "plt.bar(X, Y, color=['lightblue','lightpink'])"
   ]
  },
  {
   "cell_type": "code",
   "execution_count": 75,
   "metadata": {},
   "outputs": [
    {
     "data": {
      "text/plain": [
       "(array([ 82., 104.,  98.,   0.,  82.,  24.,   0.,   3.,   1.,   1.]),\n",
       " array([15. , 15.7, 16.4, 17.1, 17.8, 18.5, 19.2, 19.9, 20.6, 21.3, 22. ]),\n",
       " <a list of 10 Patch objects>)"
      ]
     },
     "execution_count": 75,
     "metadata": {},
     "output_type": "execute_result"
    },
    {
     "data": {
      "image/png": "[encoded data removed]",
      "text/plain": [
       "<Figure size 432x288 with 1 Axes>"
      ]
     },
     "metadata": {
      "needs_background": "light"
     },
     "output_type": "display_data"
    }
   ],
   "source": [
    "# Age Distribution\n",
    "age_freq = []\n",
    "data_age = [d['age'] for d in dataset]\n",
    "data_age.sort()\n",
    "dag = defaultdict(int)\n",
    "\n",
    "for ag in data_age:\n",
    "    dag[ag] += 1\n",
    "for key in dag.keys():\n",
    "    for i in range(0, dag.get(key)):\n",
    "        age_freq.append(key)\n",
    "# print(age_freq)\n",
    "\n",
    "# Plot your histogram here\n",
    "plt.title('Histogram of age distribution')\n",
    "plt.xlabel('Age')\n",
    "plt.ylabel('Number of students')\n",
    "plt.hist(age_freq)"
   ]
  },
  {
   "cell_type": "code",
   "execution_count": 79,
   "metadata": {},
   "outputs": [
    {
     "data": {
      "image/png": "[encoded data removed]",
      "text/plain": [
       "<Figure size 432x288 with 1 Axes>"
      ]
     },
     "metadata": {
      "needs_background": "light"
     },
     "output_type": "display_data"
    },
    {
     "data": {
      "image/png": "[encoded data removed]",
      "text/plain": [
       "<Figure size 432x288 with 1 Axes>"
      ]
     },
     "metadata": {
      "needs_background": "light"
     },
     "output_type": "display_data"
    }
   ],
   "source": [
    "# Parent education distribution (Medu - mother's education (numeric: 0 - none, 1 - primary education (4th grade), 2 – 5th to 9th grade, 3 – secondary education or 4 – higher education)\n",
    "# Fedu - father's education (numeric: 0 - none, 1 - primary education (4th grade), 2 – 5th to 9th grade, 3 – secondary education or 4 – higher education)\n",
    "medu_freq = []\n",
    "fedu_freq = []\n",
    "data_medu = [d['Medu'] for d in dataset]\n",
    "data_fedu = [d['Fedu'] for d in dataset]\n",
    "\n",
    "data_medu.sort()\n",
    "data_fedu.sort()\n",
    "\n",
    "medu = defaultdict(int)\n",
    "fedu = defaultdict(int)\n",
    "\n",
    "for i in data_medu:\n",
    "    medu[i] += 1\n",
    "for key in medu.keys():\n",
    "    for i in range(0, medu.get(key)):\n",
    "        medu_freq.append(key)\n",
    "        \n",
    "for i in data_fedu:\n",
    "    fedu[i] += 1\n",
    "for key in fedu.keys():\n",
    "    for i in range(0, fedu.get(key)):\n",
    "        fedu_freq.append(key)\n",
    "        \n",
    "f, ax = plt.subplots()\n",
    "plt.hist(medu_freq, color = 'lightpink')\n",
    "ax = ax.set(ylabel=\"Count\", xlabel=\"Mother Education\")\n",
    "\n",
    "plt.title('Parent Education Distribution')\n",
    "\n",
    "f, ax = plt.subplots()\n",
    "plt.hist(fedu_freq, color = 'lightblue')\n",
    "ax = ax.set(ylabel=\"Count\", xlabel=\"Father Education\")"
   ]
  },
  {
   "cell_type": "code",
   "execution_count": 80,
   "metadata": {},
   "outputs": [
    {
     "data": {
      "image/png": "[encoded data removed]",
      "text/plain": [
       "<Figure size 432x288 with 1 Axes>"
      ]
     },
     "metadata": {
      "needs_background": "light"
     },
     "output_type": "display_data"
    },
    {
     "data": {
      "image/png": "[encoded data removed]",
      "text/plain": [
       "<Figure size 432x288 with 1 Axes>"
      ]
     },
     "metadata": {
      "needs_background": "light"
     },
     "output_type": "display_data"
    }
   ],
   "source": [
    "# Parent job distribution\n",
    "# Mjob - mother's job (nominal: \"teacher\", \"health\" care related, civil \"services\" (e.g. administrative or police), \"at_home\" or \"other\")\n",
    "# Fjob - father's job (nominal: \"teacher\", \"health\" care related, civil \"services\" (e.g. administrative or police), \"at_home\" or \"other\")\n",
    "mjob_freq = []\n",
    "fjob_freq = []\n",
    "data_mjob = [d['Mjob'] for d in dataset]\n",
    "data_fjob = [d['Fjob'] for d in dataset]\n",
    "\n",
    "data_mjob.sort()\n",
    "data_fjob.sort()\n",
    "\n",
    "mjob = defaultdict(int)\n",
    "fjob = defaultdict(int)\n",
    "\n",
    "for i in data_mjob:\n",
    "    mjob[i] += 1\n",
    "for key in mjob.keys():\n",
    "    for i in range(0, mjob.get(key)):\n",
    "        mjob_freq.append(key)\n",
    "        \n",
    "for i in data_fjob:\n",
    "    fjob[i] += 1\n",
    "for key in fjob.keys():\n",
    "    for i in range(0, fjob.get(key)):\n",
    "        fjob_freq.append(key)\n",
    "        \n",
    "f, ax = plt.subplots()\n",
    "plt.hist(mjob_freq, color = 'lightpink')\n",
    "ax = ax.set(ylabel=\"Count\", xlabel=\"Mother job distribution\")\n",
    "\n",
    "plt.title('Parents Job Distribution')\n",
    "\n",
    "f, ax = plt.subplots()\n",
    "plt.hist(fjob_freq, color = 'lightblue')\n",
    "ax = ax.set(ylabel=\"Count\", xlabel=\"Father job distribution\")"
   ]
  },
  {
   "cell_type": "code",
   "execution_count": 81,
   "metadata": {},
   "outputs": [
    {
     "data": {
      "text/plain": [
       "Text(0.5, 1.0, 'Weekend alcohol consumption Distribution')"
      ]
     },
     "execution_count": 81,
     "metadata": {},
     "output_type": "execute_result"
    },
    {
     "data": {
      "image/png": "[encoded data removed]",
      "text/plain": [
       "<Figure size 432x288 with 1 Axes>"
      ]
     },
     "metadata": {
      "needs_background": "light"
     },
     "output_type": "display_data"
    },
    {
     "data": {
      "image/png": "[encoded data removed]",
      "text/plain": [
       "<Figure size 432x288 with 1 Axes>"
      ]
     },
     "metadata": {
      "needs_background": "light"
     },
     "output_type": "display_data"
    }
   ],
   "source": [
    "# Distribution of Alcohol Consumption\n",
    "# Dalc - workday alcohol consumption (numeric: from 1 - very low to 5 - very high)\n",
    "# Walc - weekend alcohol consumption (numeric: from 1 - very low to 5 - very high)\n",
    "\n",
    "dalc_freq = []\n",
    "walc_freq = []\n",
    "data_dalc = [d['Dalc'] for d in dataset]\n",
    "data_walc = [d['Walc'] for d in dataset]\n",
    "\n",
    "data_dalc.sort()\n",
    "data_walc.sort()\n",
    "\n",
    "dalc = defaultdict(int)\n",
    "walc = defaultdict(int)\n",
    "\n",
    "for i in data_dalc:\n",
    "    dalc[i] += 1\n",
    "for key in dalc.keys():\n",
    "    for i in range(0, dalc.get(key)):\n",
    "        dalc_freq.append(key)\n",
    "        \n",
    "for i in data_walc:\n",
    "    walc[i] += 1\n",
    "for key in walc.keys():\n",
    "    for i in range(0, walc.get(key)):\n",
    "        walc_freq.append(key)\n",
    "        \n",
    "f, ax = plt.subplots()\n",
    "plt.hist(dalc_freq, color = 'Red')\n",
    "ax = ax.set(ylabel=\"Count\", xlabel=\"Working days\")\n",
    "plt.title('Working day alcohol consumption Distribution')\n",
    "\n",
    "f, ax = plt.subplots()\n",
    "plt.hist(walc_freq, color = 'Brown')\n",
    "ax = ax.set(ylabel=\"Count\", xlabel=\"Weekend\")\n",
    "plt.title('Weekend alcohol consumption Distribution')\n"
   ]
  },
  {
   "cell_type": "code",
   "execution_count": 83,
   "metadata": {},
   "outputs": [
    {
     "data": {
      "text/plain": [
       "(array([105.,   0.,   0., 198.,   0.,   0.,  65.,   0.,   0.,  27.]),\n",
       " array([1. , 1.3, 1.6, 1.9, 2.2, 2.5, 2.8, 3.1, 3.4, 3.7, 4. ]),\n",
       " <a list of 10 Patch objects>)"
      ]
     },
     "execution_count": 83,
     "metadata": {},
     "output_type": "execute_result"
    },
    {
     "data": {
      "image/png": "[encoded data removed]",
      "text/plain": [
       "<Figure size 432x288 with 1 Axes>"
      ]
     },
     "metadata": {
      "needs_background": "light"
     },
     "output_type": "display_data"
    }
   ],
   "source": [
    "# Study time distribution\n",
    "st_freq = []\n",
    "data_st = [d['studytime'] for d in dataset]\n",
    "data_st.sort()\n",
    "dst = defaultdict(int)\n",
    "\n",
    "for st in data_st:\n",
    "    dst[st] += 1\n",
    "for key in dst.keys():\n",
    "    for i in range(0, dst.get(key)):\n",
    "        st_freq.append(key)\n",
    "\n",
    "\n",
    "# Plot your histogram here\n",
    "plt.title('Study time distribution')\n",
    "plt.xlabel('study time')\n",
    "plt.ylabel('count')\n",
    "plt.hist(st_freq)"
   ]
  },
  {
   "cell_type": "code",
   "execution_count": 84,
   "metadata": {},
   "outputs": [
    {
     "data": {
      "text/plain": [
       "(array([287.,  72.,  25.,   5.,   1.,   2.,   0.,   2.,   0.,   1.]),\n",
       " array([ 0. ,  7.5, 15. , 22.5, 30. , 37.5, 45. , 52.5, 60. , 67.5, 75. ]),\n",
       " <a list of 10 Patch objects>)"
      ]
     },
     "execution_count": 84,
     "metadata": {},
     "output_type": "execute_result"
    },
    {
     "data": {
      "image/png": "[encoded data removed]",
      "text/plain": [
       "<Figure size 432x288 with 1 Axes>"
      ]
     },
     "metadata": {
      "needs_background": "light"
     },
     "output_type": "display_data"
    }
   ],
   "source": [
    "# Absences Distribution\n",
    "ab_freq = []\n",
    "data_ab = [d['absences'] for d in dataset]\n",
    "data_ab.sort()\n",
    "dab = defaultdict(int)\n",
    "\n",
    "for ab in data_ab:\n",
    "    dab[ab] += 1\n",
    "for key in dab.keys():\n",
    "    for i in range(0, dab.get(key)):\n",
    "        ab_freq.append(key)\n",
    "\n",
    "\n",
    "# Plot your histogram here\n",
    "plt.title('Absences distribution')\n",
    "plt.xlabel('Absences')\n",
    "plt.ylabel('count')\n",
    "plt.hist(ab_freq)"
   ]
  }
 ],
 "metadata": {
  "kernelspec": {
   "display_name": "Python 3",
   "language": "python",
   "name": "python3"
  },
  "language_info": {
   "codemirror_mode": {
    "name": "ipython",
    "version": 3
   },
   "file_extension": ".py",
   "mimetype": "text/x-python",
   "name": "python",
   "nbconvert_exporter": "python",
   "pygments_lexer": "ipython3",
   "version": "3.6.9"
  }
 },
 "nbformat": 4,
 "nbformat_minor": 2
}
